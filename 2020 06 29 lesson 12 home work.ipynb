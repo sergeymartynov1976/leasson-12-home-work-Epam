{
 "cells": [
  {
   "cell_type": "markdown",
   "metadata": {},
   "source": [
    "Для следующих простых задач нужно привести 2-3 способа решения на python, сравнить\n",
    "между собой эти способы по затрачиваемым времени и памяти и объяснить с чем это\n",
    "может быть связано.\n",
    "1. Чтение/запись в словарь. При попытке чтения несуществующего ключа возвращается\n",
    "None.\n",
    "2. К каждому элементу списка применить какуе-либо преобразование (например, для\n",
    "числового списка - возвести в кавдрат, для строкового - привести к верхнему\n",
    "регистру, отфильтровать определенные символы, и т.д.).\n",
    "3. Отсортировать список.\n",
    "4. Распаковать вложенный список."
   ]
  },
  {
   "cell_type": "markdown",
   "metadata": {},
   "source": [
    "##### Задание1."
   ]
  },
  {
   "cell_type": "code",
   "execution_count": 33,
   "metadata": {},
   "outputs": [],
   "source": [
    "# Функции записи в словарь\n",
    "def add_1(dict_, new_item):\n",
    "    dict_[new_item[0]] = new_item[1]\n",
    "    return dict_\n",
    "\n",
    "def add_2(dict_, new_item):\n",
    "    dict_.setdefault(new_item[0], new_item[1])\n",
    "    return dict_"
   ]
  },
  {
   "cell_type": "code",
   "execution_count": 54,
   "metadata": {},
   "outputs": [],
   "source": [
    "# Функции чтения из словаря\n",
    "def read_1(dict_, key):\n",
    "    try:\n",
    "        return dict_[key]\n",
    "    except Exception:\n",
    "        return None\n",
    "    \n",
    "def read_2(dict_, key):\n",
    "    return dict_.get(key)"
   ]
  },
  {
   "cell_type": "markdown",
   "metadata": {},
   "source": [
    "Проверка через %timeit"
   ]
  },
  {
   "cell_type": "code",
   "execution_count": null,
   "metadata": {},
   "outputs": [],
   "source": [
    "# Для проверки создаем список туплов\n",
    "d3 = [(str(i),i*3) for i in range(50)]"
   ]
  },
  {
   "cell_type": "code",
   "execution_count": 42,
   "metadata": {},
   "outputs": [],
   "source": [
    "# Создаем словари для проверки работы функций\n",
    "d1 = {}\n",
    "d2 = {}"
   ]
  },
  {
   "cell_type": "code",
   "execution_count": 44,
   "metadata": {},
   "outputs": [
    {
     "name": "stdout",
     "output_type": "stream",
     "text": [
      "11.8 µs ± 388 ns per loop (mean ± std. dev. of 7 runs, 100000 loops each)\n"
     ]
    }
   ],
   "source": [
    "# Замеряем время работы функции записи способ 1\n",
    "%%timeit\n",
    "for it in d3: add_1(d1, it)"
   ]
  },
  {
   "cell_type": "code",
   "execution_count": 45,
   "metadata": {},
   "outputs": [
    {
     "name": "stdout",
     "output_type": "stream",
     "text": [
      "13.8 µs ± 421 ns per loop (mean ± std. dev. of 7 runs, 100000 loops each)\n"
     ]
    }
   ],
   "source": [
    "# Замеряем время работы функции записи способ 2\n",
    "%%timeit\n",
    "for it in d3: add_2(d2, it)"
   ]
  },
  {
   "cell_type": "code",
   "execution_count": 47,
   "metadata": {},
   "outputs": [],
   "source": [
    "# Создаем список ключей для чтения записей\n",
    "d4 = [str(i) for i in range(20, 60)]"
   ]
  },
  {
   "cell_type": "code",
   "execution_count": 50,
   "metadata": {},
   "outputs": [
    {
     "name": "stdout",
     "output_type": "stream",
     "text": [
      "18.4 µs ± 1.31 µs per loop (mean ± std. dev. of 7 runs, 10000 loops each)\n"
     ]
    }
   ],
   "source": [
    "# Замеряем время работы функции чтения способ 1\n",
    "%timeit d5 = {str(i): read_1(d1, i) for i in d4} "
   ]
  },
  {
   "cell_type": "code",
   "execution_count": 56,
   "metadata": {},
   "outputs": [
    {
     "name": "stdout",
     "output_type": "stream",
     "text": [
      "17.3 µs ± 1.03 µs per loop (mean ± std. dev. of 7 runs, 100000 loops each)\n"
     ]
    }
   ],
   "source": [
    "# Замеряем время работы функции чтения способ 2\n",
    "%timeit d6 = {str(i): read_2(d2, i) for i in d4}"
   ]
  },
  {
   "cell_type": "code",
   "execution_count": 62,
   "metadata": {},
   "outputs": [],
   "source": [
    "# Функция для запуска всех функций\n",
    "def manage_dict():\n",
    "    d1 = {}\n",
    "    d2 = {}\n",
    "    d3 = [(str(i), i*3) for i in range (101)]\n",
    "    d4 = [str(i) for i in range(50, 151)]\n",
    "    for it in d3: add_1(d1, it) # Записываем свловарь методом 1\n",
    "    for it in d3: add_2(d2, it) # Записываем словарь методом 2\n",
    "    d5 = {str(i): read_1(d1, i) for i in d4} # Читаем записи словаря методом 1\n",
    "    d6 = {str(i): read_2(d2, i) for i in d4} # Читаем записи словаря методом 2\n",
    "    return d1, d2, d3, d4"
   ]
  },
  {
   "cell_type": "markdown",
   "metadata": {},
   "source": [
    "Проверка по времени через line-profiler"
   ]
  },
  {
   "cell_type": "code",
   "execution_count": 63,
   "metadata": {},
   "outputs": [],
   "source": [
    "%load_ext line_profiler"
   ]
  },
  {
   "cell_type": "code",
   "execution_count": 64,
   "metadata": {},
   "outputs": [],
   "source": [
    "%lprun -f manage_dict manage_dict()"
   ]
  },
  {
   "cell_type": "markdown",
   "metadata": {},
   "source": [
    "Timer unit: 1e-07 s\n",
    "\n",
    "Total time: 0.0016981 s\n",
    "File: <ipython-input-62-91d865a478f0>\n",
    "Function: manage_dict at line 2\n",
    "\n",
    "     Line      Hits         Time  Per Hit   % Time  Line Contents\n",
    " \n",
    "     2                                           def manage_dict():\n",
    "     3         1        186.0    186.0      1.1      d1 = {}\n",
    "     4         1         31.0     31.0      0.2      d2 = {}\n",
    "     5         1       1413.0   1413.0      8.3      d3 = [(str(i), i*3) for i in range (101)]\n",
    "     6         1        961.0    961.0      5.7      d4 = [str(i) for i in range(50, 151)]\n",
    "     7       102       4246.0     41.6     25.0      for it in d3: add_1(d1, it) # Записываем свловарь методом 1\n",
    "     8       102       4915.0     48.2     28.9      for it in d3: add_2(d2, it) # Записываем словарь методом 2\n",
    "     9         1       3143.0   3143.0     18.5      d5 = {str(i): read_1(d1, i) for i in d4} # Читаем записи словаря мет 1\n",
    "    10         1       2056.0   2056.0     12.1      d6 = {str(i): read_2(d2, i) for i in d4} # Читаем записи словаря мет 2\n",
    "    11         1         30.0     30.0      0.2      return d1, d2, d3, d4"
   ]
  },
  {
   "cell_type": "markdown",
   "metadata": {},
   "source": [
    "Проверка расходования памяти через memory-profiler"
   ]
  },
  {
   "cell_type": "code",
   "execution_count": 65,
   "metadata": {},
   "outputs": [],
   "source": [
    "%load_ext memory_profiler"
   ]
  },
  {
   "cell_type": "code",
   "execution_count": 70,
   "metadata": {},
   "outputs": [
    {
     "name": "stdout",
     "output_type": "stream",
     "text": [
      "Overwriting str_memory_consumption.py\n"
     ]
    }
   ],
   "source": [
    "%%writefile str_memory_consumption.py\n",
    "\n",
    "from memory_profiler import profile\n",
    "\n",
    "def add_1(dict_, new_item):\n",
    "    dict_[new_item[0]] = new_item[1]\n",
    "    return dict_\n",
    "\n",
    "def add_2(dict_, new_item):\n",
    "    dict_.setdefault(new_item[0], new_item[1])\n",
    "    return dict_\n",
    "\n",
    "def read_1(dict_, key):\n",
    "    try:\n",
    "        return dict_[key]\n",
    "    except Exception:\n",
    "        return None\n",
    "    \n",
    "def read_2(dict_, key):\n",
    "    return dict_.get(key)\n",
    "\n",
    "@profile\n",
    "def manage_dict_memory():\n",
    "    d1 = {}\n",
    "    d2 = {}\n",
    "    d3 = [(str(i), i*3) for i in range (101)]\n",
    "    d4 = [str(i) for i in range(50, 151)]\n",
    "    for it in d3: add_1(d1, it) # Записываем свловарь методом 1\n",
    "    for it in d3: add_2(d2, it) # Записываем словарь методом 2\n",
    "    d5 = {str(i): read_1(d1, i) for i in d4} # Читаем записи словаря методом 1\n",
    "    d6 = {str(i): read_2(d2, i) for i in d4} # Читаем записи словаря методом 2\n",
    "    return d1, d2, d3, d4\n",
    "\n",
    "if __name__ == '__main__':\n",
    "    manage_dict_memory()"
   ]
  },
  {
   "cell_type": "code",
   "execution_count": 71,
   "metadata": {},
   "outputs": [
    {
     "name": "stdout",
     "output_type": "stream",
     "text": [
      "Filename: str_memory_consumption.py\n",
      "\n",
      "Line #    Mem usage    Increment   Line Contents\n",
      "================================================\n",
      "    21     39.3 MiB     39.3 MiB   @profile\n",
      "    22                             def manage_dict_memory():\n",
      "    23     39.3 MiB      0.0 MiB       d1 = {}\n",
      "    24     39.3 MiB      0.0 MiB       d2 = {}\n",
      "    25     39.3 MiB      0.0 MiB       d3 = [(str(i), i*3) for i in range (101)]\n",
      "    26     39.3 MiB      0.0 MiB       d4 = [str(i) for i in range(50, 151)]\n",
      "    27     39.3 MiB      0.0 MiB       for it in d3: add_1(d1, it) # Записываем свловарь методом 1\n",
      "    28     39.3 MiB      0.0 MiB       for it in d3: add_2(d2, it) # Записываем словарь методом 2\n",
      "    29     39.3 MiB      0.0 MiB       d5 = {str(i): read_1(d1, i) for i in d4} # Читаем записи словаря методом 1\n",
      "    30     39.4 MiB      0.1 MiB       d6 = {str(i): read_2(d2, i) for i in d4} # Читаем записи словаря методом 2\n",
      "    31     39.4 MiB      0.0 MiB       return d1, d2, d3, d4\n",
      "\n",
      "\n"
     ]
    }
   ],
   "source": [
    "!python str_memory_consumption.py"
   ]
  },
  {
   "cell_type": "markdown",
   "metadata": {},
   "source": [
    "###### Вывод:\n",
    "Первый способ записи в словарь выполняется быстрее, так как ему не приходится проверять словарь на наличие ключа, как в методе 2.\n",
    "Первый способ чтения записи из словаря медленнее, так как применения конструкция try-except, а во втором методе используется оптимизированная стандартная функция get.\n",
    "По потреблению памяти все способы записи и чтения одинаковы. Способ чтения с помощью стандартного метода get потребляет чуть больше, видимо внутри get использован алгоритм с промежуточными переменными, для ускорения работы."
   ]
  },
  {
   "cell_type": "markdown",
   "metadata": {},
   "source": [
    "##### Задание 2\n",
    "Буду возводить в 5ю степень значения числового списка"
   ]
  },
  {
   "cell_type": "code",
   "execution_count": 112,
   "metadata": {},
   "outputs": [],
   "source": [
    "# Функции возведения в 5ю степень\n",
    "def func_1(l):\n",
    "    for i in range(len(l)):\n",
    "        l[i] = l[i]**5\n",
    "    return l\n",
    "\n",
    "def func_2(l):\n",
    "    for i, item in enumerate(l):\n",
    "        l[i] = item**5\n",
    "    return l\n",
    "\n",
    "def func_3(l):\n",
    "    l = list(map(lambda x: x**5, l))\n",
    "    return l"
   ]
  },
  {
   "cell_type": "code",
   "execution_count": 200,
   "metadata": {},
   "outputs": [],
   "source": [
    "# Функция для запуска всех функций\n",
    "def manage_lists(n):\n",
    "    l1 = [i for i in range(n)]\n",
    "    l2 = func_1([i for i in range(n)])\n",
    "    l3 = func_2([i for i in range(n)])\n",
    "    l4 = func_3([i for i in range(n)])\n",
    "    return l1, l2, l3, l4"
   ]
  },
  {
   "cell_type": "markdown",
   "metadata": {},
   "source": [
    "Проверка по времени через line-profiler"
   ]
  },
  {
   "cell_type": "code",
   "execution_count": 201,
   "metadata": {},
   "outputs": [],
   "source": [
    "%lprun -f manage_lists manage_lists(10001)"
   ]
  },
  {
   "cell_type": "markdown",
   "metadata": {},
   "source": [
    "Timer unit: 1e-07 s\n",
    "\n",
    "Total time: 0.0600977 s\n",
    "File: <ipython-input-200-54198ae42705>\n",
    "Function: manage_lists at line 2\n",
    "\n",
    "    Line      Hits     Time  Per Hit   % Time  Line Contents\n",
    "\n",
    "     2                                           def manage_lists(n):\n",
    "     3         1      46659.0  46659.0      7.8      l1 = [i for i in range(n)]\n",
    "     4         1     158911.0 158911.0     26.4      l2 = func_1([i for i in range(n)])\n",
    "     5         1     163198.0 163198.0     27.2      l3 = func_2([i for i in range(n)])\n",
    "     6         1     232159.0 232159.0     38.6      l4 = func_3([i for i in range(n)])\n",
    "     7         1         50.0     50.0      0.0      return l1, l2, l3, l4"
   ]
  },
  {
   "cell_type": "markdown",
   "metadata": {},
   "source": [
    "Проверка по памяти через memory-profiler"
   ]
  },
  {
   "cell_type": "code",
   "execution_count": 198,
   "metadata": {},
   "outputs": [
    {
     "name": "stdout",
     "output_type": "stream",
     "text": [
      "Overwriting str_memory_consumption1.py\n"
     ]
    }
   ],
   "source": [
    "%%writefile str_memory_consumption1.py\n",
    "\n",
    "from memory_profiler import profile\n",
    "\n",
    "def func_1(l):\n",
    "    for i in range(len(l)):\n",
    "        l[i] = l[i]**5\n",
    "    return l\n",
    "\n",
    "def func_2(l):\n",
    "    for i, item in enumerate(l):\n",
    "        l[i] = item**5\n",
    "    return l\n",
    "\n",
    "def func_3(l):\n",
    "    l = list(map(lambda x: x**5, l))\n",
    "    return l\n",
    "\n",
    "@profile\n",
    "def manage_lists_mem(n):\n",
    "    l2 = func_1([i for i in range(n)])\n",
    "    l3 = func_2([i for i in range(n)])\n",
    "    l4 = func_3([i for i in range(n)])\n",
    "    return l2, l3, l4\n",
    "\n",
    "if __name__ == '__main__':\n",
    "    manage_lists_mem(10001)"
   ]
  },
  {
   "cell_type": "code",
   "execution_count": 199,
   "metadata": {},
   "outputs": [
    {
     "name": "stdout",
     "output_type": "stream",
     "text": [
      "Filename: str_memory_consumption1.py\n",
      "\n",
      "Line #    Mem usage    Increment   Line Contents\n",
      "================================================\n",
      "    18     39.4 MiB     39.4 MiB   @profile\n",
      "    19                             def manage_lists_mem(n):\n",
      "    20     40.1 MiB      0.1 MiB       l2 = func_1([i for i in range(n)])\n",
      "    21     40.6 MiB      0.2 MiB       l3 = func_2([i for i in range(n)])\n",
      "    22     41.5 MiB      0.5 MiB       l4 = func_3([i for i in range(n)])\n",
      "    23     41.5 MiB      0.0 MiB       return l2, l3, l4\n",
      "\n",
      "\n"
     ]
    }
   ],
   "source": [
    "!python str_memory_consumption1.py"
   ]
  },
  {
   "cell_type": "markdown",
   "metadata": {},
   "source": [
    "Проверка по времени через timeit"
   ]
  },
  {
   "cell_type": "code",
   "execution_count": 113,
   "metadata": {},
   "outputs": [
    {
     "name": "stdout",
     "output_type": "stream",
     "text": [
      "639 µs ± 31.1 µs per loop (mean ± std. dev. of 7 runs, 1000 loops each)\n"
     ]
    }
   ],
   "source": [
    "%timeit l2=func_1([i for i in range(1001)])"
   ]
  },
  {
   "cell_type": "code",
   "execution_count": 114,
   "metadata": {},
   "outputs": [
    {
     "name": "stdout",
     "output_type": "stream",
     "text": [
      "675 µs ± 19.5 µs per loop (mean ± std. dev. of 7 runs, 1000 loops each)\n"
     ]
    }
   ],
   "source": [
    "%timeit l3=func_2([i for i in range(1001)])"
   ]
  },
  {
   "cell_type": "code",
   "execution_count": 115,
   "metadata": {},
   "outputs": [
    {
     "name": "stdout",
     "output_type": "stream",
     "text": [
      "644 µs ± 9.89 µs per loop (mean ± std. dev. of 7 runs, 1000 loops each)\n"
     ]
    }
   ],
   "source": [
    "%timeit l4=func_3([i for i in range(1001)])"
   ]
  },
  {
   "cell_type": "markdown",
   "metadata": {},
   "source": [
    "##### Выводы:\n",
    "Самый быстрый способ это перебор элементов списка через индексы. Применить функцию ко всем элементами через map медленный способ, думаю, что из-за того, что каждый раз приходится создавать объект функции lambda. Хотя timeit показал, что enumerate самый медленный способ.\n",
    "По расходу памяти способ через метод map так же оказался самым плохим. Видимо из-за создания дополнительных объектов при реализации этого метода."
   ]
  },
  {
   "cell_type": "markdown",
   "metadata": {},
   "source": [
    "##### Задание 3.\n",
    "Буду сортировать список строк в зависимости от длины."
   ]
  },
  {
   "cell_type": "code",
   "execution_count": 143,
   "metadata": {},
   "outputs": [],
   "source": [
    "# Список строк для сортировки\n",
    "import random\n",
    "ls = ['sfd'*random.randint(3,10) for i in range(101)]"
   ]
  },
  {
   "cell_type": "code",
   "execution_count": 124,
   "metadata": {},
   "outputs": [],
   "source": [
    "# Функции для сортировки\n",
    "def sort_1(l):\n",
    "    for k in range(len(l)):\n",
    "        min_in=k\n",
    "        min_s=len(l[k])\n",
    "        a=l[k]\n",
    "        for i in range(k, len(l)):        \n",
    "            if len(l[i])<min_s:\n",
    "                min_in=i\n",
    "                min_s=len(l[i])\n",
    "        l[k]=l[min_in]\n",
    "        l[min_in]=a\n",
    "    return l\n",
    "    \n",
    "def sort_2(l):\n",
    "    l.sort(key=len)\n",
    "    return l"
   ]
  },
  {
   "cell_type": "markdown",
   "metadata": {},
   "source": [
    "Проверка по времени через timeit"
   ]
  },
  {
   "cell_type": "code",
   "execution_count": 141,
   "metadata": {},
   "outputs": [
    {
     "name": "stdout",
     "output_type": "stream",
     "text": [
      "973 µs ± 40.8 µs per loop (mean ± std. dev. of 7 runs, 1000 loops each)\n"
     ]
    }
   ],
   "source": [
    "%timeit s1=sort_1(['sfd'*random.randint(3,10) for i in range(101)])"
   ]
  },
  {
   "cell_type": "code",
   "execution_count": 142,
   "metadata": {},
   "outputs": [
    {
     "name": "stdout",
     "output_type": "stream",
     "text": [
      "228 µs ± 28.6 µs per loop (mean ± std. dev. of 7 runs, 1000 loops each)\n"
     ]
    }
   ],
   "source": [
    "%timeit s2=sort_2(['sfd'*random.randint(3,10) for i in range(101)])"
   ]
  },
  {
   "cell_type": "markdown",
   "metadata": {},
   "source": [
    "Проверка по времени через line-profiler"
   ]
  },
  {
   "cell_type": "code",
   "execution_count": 146,
   "metadata": {},
   "outputs": [],
   "source": [
    "# Функция для запуска функций\n",
    "def sort_all():\n",
    "    l1 = sort_1(['sfd'*random.randint(3,10) for i in range(101)])\n",
    "    l2 = sort_2(['sfd'*random.randint(3,10) for i in range(101)])\n",
    "    return l1, l2"
   ]
  },
  {
   "cell_type": "code",
   "execution_count": 147,
   "metadata": {},
   "outputs": [],
   "source": [
    "%lprun -f sort_all sort_all()"
   ]
  },
  {
   "cell_type": "markdown",
   "metadata": {},
   "source": [
    "Timer unit: 1e-07 s\n",
    "\n",
    "Total time: 0.0079044 s\n",
    "File: <ipython-input-146-5e06037eb75f>\n",
    "Function: sort_all at line 2\n",
    "\n",
    "    Line        Hits       Time  Per Hit   % Time  Line Contents\n",
    " \n",
    "     2                                           def sort_all():\n",
    "     3         1      66112.0  66112.0     83.6      l1 = sort_1(['sfd'*random.randint(3,10) for i in range(101)])\n",
    "     4         1      12907.0  12907.0     16.3      l2 = sort_2(['sfd'*random.randint(3,10) for i in range(101)])\n",
    "     5         1         25.0     25.0      0.0      return l1, l2"
   ]
  },
  {
   "cell_type": "markdown",
   "metadata": {},
   "source": [
    "Проверка по памяти через memory-profiler"
   ]
  },
  {
   "cell_type": "code",
   "execution_count": 152,
   "metadata": {},
   "outputs": [
    {
     "name": "stdout",
     "output_type": "stream",
     "text": [
      "Overwriting str_memory_consumption2.py\n"
     ]
    }
   ],
   "source": [
    "%%writefile str_memory_consumption2.py\n",
    "\n",
    "from memory_profiler import profile\n",
    "import random\n",
    "\n",
    "def sort_1(l):\n",
    "    for k in range(len(l)):\n",
    "        min_in=k\n",
    "        min_s=len(l[k])\n",
    "        a=l[k]\n",
    "        for i in range(k, len(l)):        \n",
    "            if len(l[i])<min_s:\n",
    "                min_in=i\n",
    "                min_s=len(l[i])\n",
    "        l[k]=l[min_in]\n",
    "        l[min_in]=a\n",
    "    return l\n",
    "    \n",
    "def sort_2(l):\n",
    "    l.sort(key=len)\n",
    "    return l\n",
    "\n",
    "@profile\n",
    "def sort_all_mem(n):\n",
    "    l1 = sort_1(['sfd'*random.randint(3,10) for i in range(n)])\n",
    "    l2 = sort_2(['sfd'*random.randint(3,10) for i in range(n)])\n",
    "    return l1, l2\n",
    "\n",
    "if __name__ == '__main__':\n",
    "    sort_all_mem(10001)"
   ]
  },
  {
   "cell_type": "code",
   "execution_count": 153,
   "metadata": {},
   "outputs": [
    {
     "name": "stdout",
     "output_type": "stream",
     "text": [
      "Filename: str_memory_consumption2.py\n",
      "\n",
      "Line #    Mem usage    Increment   Line Contents\n",
      "================================================\n",
      "    22     39.4 MiB     39.4 MiB   @profile\n",
      "    23                             def sort_all_mem(n):\n",
      "    24     40.2 MiB      0.1 MiB       l1 = sort_1(['sfd'*random.randint(3,10) for i in range(n)])\n",
      "    25     41.1 MiB      0.1 MiB       l2 = sort_2(['sfd'*random.randint(3,10) for i in range(n)])\n",
      "    26     41.1 MiB      0.0 MiB       return l1, l2\n",
      "\n",
      "\n"
     ]
    }
   ],
   "source": [
    "!python str_memory_consumption2.py"
   ]
  },
  {
   "cell_type": "markdown",
   "metadata": {},
   "source": [
    "##### Выводы\n",
    "Конечно же стандартный метод сортировки list.sort работает гораздо быстрее, так как реализован по быстрому алгоритму и оптимизирован внутри. Перебор каждого элемента списка как в первом способе очень долгий процесс.\n",
    "По потреблению памяти оба способа сопоставимы, сортировка через sort потребляет чуть больше, наверное из-за способа реализации внутри этого метода."
   ]
  },
  {
   "cell_type": "markdown",
   "metadata": {},
   "source": [
    "##### Задание 4."
   ]
  },
  {
   "cell_type": "code",
   "execution_count": 176,
   "metadata": {},
   "outputs": [],
   "source": [
    "# Создадим список списков для экспериментов\n",
    "ll = [[i for i in range(random.randint(1, 51))] for l in range(random.randint(1, 501))]"
   ]
  },
  {
   "cell_type": "code",
   "execution_count": 170,
   "metadata": {},
   "outputs": [],
   "source": [
    "# Функции для распаковки списка списков в один список\n",
    "def unpack_1(l):\n",
    "    return [e for i in l for e in i]\n",
    "\n",
    "def unpack_2(l):\n",
    "    res = []\n",
    "    for v in l:\n",
    "        for i in v:\n",
    "            res.append(i)\n",
    "    return res"
   ]
  },
  {
   "cell_type": "markdown",
   "metadata": {},
   "source": [
    "Проверка по времени через timeit"
   ]
  },
  {
   "cell_type": "code",
   "execution_count": 180,
   "metadata": {},
   "outputs": [
    {
     "name": "stdout",
     "output_type": "stream",
     "text": [
      "875 µs ± 59.8 µs per loop (mean ± std. dev. of 7 runs, 1000 loops each)\n"
     ]
    }
   ],
   "source": [
    "%timeit ll2=unpack_2(ll)"
   ]
  },
  {
   "cell_type": "code",
   "execution_count": 181,
   "metadata": {},
   "outputs": [
    {
     "name": "stdout",
     "output_type": "stream",
     "text": [
      "378 µs ± 33.2 µs per loop (mean ± std. dev. of 7 runs, 1000 loops each)\n"
     ]
    }
   ],
   "source": [
    "%timeit ll1=unpack_1(ll)"
   ]
  },
  {
   "cell_type": "markdown",
   "metadata": {},
   "source": [
    "Проверка по времени через line-profiler"
   ]
  },
  {
   "cell_type": "code",
   "execution_count": 183,
   "metadata": {},
   "outputs": [],
   "source": [
    "# Функция для запуска функций\n",
    "def unpack_all(ll):\n",
    "    l1 = unpack_1(ll)\n",
    "    l2 = unpack_2(ll)\n",
    "    return l1, l2"
   ]
  },
  {
   "cell_type": "code",
   "execution_count": 184,
   "metadata": {},
   "outputs": [],
   "source": [
    "%lprun -f unpack_all unpack_all(ll)"
   ]
  },
  {
   "cell_type": "markdown",
   "metadata": {},
   "source": [
    "Timer unit: 1e-07 s\n",
    "\n",
    "Total time: 0.0096876 s\n",
    "File: <ipython-input-183-d0ca8a044cf8>\n",
    "Function: unpack_all at line 2\n",
    "\n",
    "    Line      Hits       Time  Per Hit   % Time  Line Contents\n",
    "\n",
    "     2                                           def unpack_all(ll):\n",
    "     3         1      21844.0  21844.0     22.5      l1 = unpack_1(ll)\n",
    "     4         1      74990.0  74990.0     77.4      l2 = unpack_2(ll)\n",
    "     5         1         42.0     42.0      0.0      return l1, l2"
   ]
  },
  {
   "cell_type": "code",
   "execution_count": 189,
   "metadata": {},
   "outputs": [
    {
     "name": "stdout",
     "output_type": "stream",
     "text": [
      "Overwriting str_memory_consumption3.py\n"
     ]
    }
   ],
   "source": [
    "%%writefile str_memory_consumption3.py\n",
    "\n",
    "from memory_profiler import profile\n",
    "import random\n",
    "\n",
    "def unpack_1(l):\n",
    "    return [e for i in l for e in i]\n",
    "\n",
    "def unpack_2(l):\n",
    "    res = []\n",
    "    for v in l:\n",
    "        for i in v:\n",
    "            res.append(i)\n",
    "    return res\n",
    "\n",
    "lll = [[i for i in range(random.randint(1, 101))] for l in range(random.randint(1, 1001))]\n",
    "\n",
    "@profile\n",
    "def unpack_all_mem(l):\n",
    "    \n",
    "    l1 = unpack_1(l)\n",
    "    l2 = unpack_2(l)\n",
    "    return l1, l2\n",
    "\n",
    "if __name__ == '__main__':\n",
    "    unpack_all_mem(lll)"
   ]
  },
  {
   "cell_type": "code",
   "execution_count": 190,
   "metadata": {},
   "outputs": [
    {
     "name": "stdout",
     "output_type": "stream",
     "text": [
      "Filename: str_memory_consumption3.py\n",
      "\n",
      "Line #    Mem usage    Increment   Line Contents\n",
      "================================================\n",
      "    17     39.8 MiB     39.8 MiB   @profile\n",
      "    18                             def unpack_all_mem(l):\n",
      "    19                                 \n",
      "    20     40.6 MiB      0.8 MiB       l1 = unpack_1(l)\n",
      "    21     40.6 MiB      0.0 MiB       l2 = unpack_2(l)\n",
      "    22     40.6 MiB      0.0 MiB       return l1, l2\n",
      "\n",
      "\n"
     ]
    }
   ],
   "source": [
    "!python str_memory_consumption3.py"
   ]
  },
  {
   "cell_type": "markdown",
   "metadata": {},
   "source": [
    "##### Выводы:\n",
    "Способ с использованием генератора работает быстрее. Генераторы всегда работают быстрее.\n",
    "По использованию памяти способ с генератором расходует ее больше. Объект генератор видимо забирает больше памяти. "
   ]
  },
  {
   "cell_type": "code",
   "execution_count": null,
   "metadata": {},
   "outputs": [],
   "source": []
  }
 ],
 "metadata": {
  "kernelspec": {
   "display_name": "Python 3",
   "language": "python",
   "name": "python3"
  },
  "language_info": {
   "codemirror_mode": {
    "name": "ipython",
    "version": 3
   },
   "file_extension": ".py",
   "mimetype": "text/x-python",
   "name": "python",
   "nbconvert_exporter": "python",
   "pygments_lexer": "ipython3",
   "version": "3.7.6"
  }
 },
 "nbformat": 4,
 "nbformat_minor": 4
}
